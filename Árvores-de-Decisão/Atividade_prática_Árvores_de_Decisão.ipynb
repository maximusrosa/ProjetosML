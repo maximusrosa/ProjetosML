{
  "cells": [
    {
      "cell_type": "markdown",
      "metadata": {
        "id": "E650rvooE65t"
      },
      "source": [
        "# INF01017 - Aprendizado de Máquina - INF/UFRGS\n",
        "\n",
        "## Atividade Prática: Árvores de Decisão\n",
        "\n",
        "As árvores de decisão são conhecidas por possuírem um baixo viés, ao mesmo tempo em que apresentam alta variância.\n",
        "Isto é, o método é capaz de modelar fronteiras de decisão bastante complexas, o que, por um lado, é positivo, mas torna o algoritmo bastante suscetível a ruído ou a padrões nos dados de treino que não generalizam para instâncias de teste.\n",
        "Por isso, técnicas de poda são fundamentais para o uso efetivo do modelo em dados novos.\n",
        "\n",
        "Nessa atividade, iremos analisar como a estrutura e as predições da árvore de decisão são afetadas por pequenas variações no conjunto de treino. Além disso, veremos duas técnicas de poda que podem ser usadas para controlar a complexidade do modelo.\n",
        "\n",
        "**Este *colab* deve ser usado como base para o preenchimento do questionário encontrado no Moodle. Faça uma cópia do mesmo para realizar o exercício.** A forma mais fácil para duplicar este *colab* é ir em File > \"Save a Copy in Drive\". Não é necessário entregar este *colab* preenchido, mas guarde-o para caso ache que algum questionário está errado.\n"
      ]
    },
    {
      "cell_type": "markdown",
      "metadata": {
        "id": "bzW8jdj7Jgp0"
      },
      "source": [
        "### Objetivos da Atividade\n",
        "* Analisar os impactos da característica de **variância** nas árvores de decisão.\n",
        "* Analisar o efeito da **poda** em árvores de decisão.\n",
        "* Observar um exemplo para treinamento e avaliação de modelo\n"
      ]
    },
    {
      "cell_type": "markdown",
      "metadata": {
        "id": "owi-J_whK4IS"
      },
      "source": [
        "## Carregamento dos Dados\n",
        "\n",
        "Além de possuir uma grande quantidade de algoritmos de aprendizado de máquina, a biblioteca [scikit-learn](https://scikit-learn.org/stable/index.html) possui também funções para carregar alguns conjuntos de dados.\n",
        "\n",
        "Nessa seção, vamos usar essas funções para carregar o dataset [Breast Cancer Winconsin](https://scikit-learn.org/stable/datasets/toy_dataset.html#breast-cancer-dataset). Esse dataset possui um total de 30 atributos relativos a características de tumores de mama e um atributo alvo binário, que indica se o tumor é maligno ou benigno. Todos os 30 atributos são valores reais."
      ]
    },
    {
      "cell_type": "markdown",
      "metadata": {
        "id": "SqJsx9OITVn_"
      },
      "source": [
        "### Obtenção e análise dos dados\n",
        "O código abaixo carrega o dataset utilizando as funções do scikit-learn e mostra algumas informações básicas sobre os dados"
      ]
    },
    {
      "cell_type": "code",
      "execution_count": 5,
      "metadata": {
        "id": "p-1VZTPjQax2"
      },
      "outputs": [
        {
          "name": "stdout",
          "output_type": "stream",
          "text": [
            "Dimensões de X: (569, 30)\n",
            "\n",
            "Dimensões de y: (569,)\n",
            "\n",
            "Nomes dos atributos: ['mean radius' 'mean texture' 'mean perimeter' 'mean area'\n",
            " 'mean smoothness' 'mean compactness' 'mean concavity'\n",
            " 'mean concave points' 'mean symmetry' 'mean fractal dimension'\n",
            " 'radius error' 'texture error' 'perimeter error' 'area error'\n",
            " 'smoothness error' 'compactness error' 'concavity error'\n",
            " 'concave points error' 'symmetry error' 'fractal dimension error'\n",
            " 'worst radius' 'worst texture' 'worst perimeter' 'worst area'\n",
            " 'worst smoothness' 'worst compactness' 'worst concavity'\n",
            " 'worst concave points' 'worst symmetry' 'worst fractal dimension']\n",
            "\n",
            "Nomes das classes: ['malignant' 'benign']\n"
          ]
        }
      ],
      "source": [
        "from sklearn.datasets import load_breast_cancer\n",
        "import matplotlib.pyplot as plt\n",
        "\n",
        "data = load_breast_cancer()\n",
        "X = data.data  # matriz contendo os atributos\n",
        "y = data.target  # vetor contendo a classe (0 para maligno e 1 para benigno) de cada instância\n",
        "feature_names = data.feature_names  # nome de cada atributo\n",
        "target_names = data.target_names  # nome de cada classe\n",
        "\n",
        "print(f\"Dimensões de X: {X.shape}\\n\")\n",
        "print(f\"Dimensões de y: {y.shape}\\n\")\n",
        "print(f\"Nomes dos atributos: {feature_names}\\n\")\n",
        "print(f\"Nomes das classes: {target_names}\")"
      ]
    },
    {
      "cell_type": "markdown",
      "metadata": {
        "id": "owFi-RCWQj5E"
      },
      "source": [
        "Como pode ser visto, o dataset possui 569 exemplos, sendo cada exemplo constituído por 30 diferentes atributos.\n",
        "\n",
        "### Quantidade de Exemplos de cada Classe\n",
        "É possível também contar quantos exemplos pertencem à classe dos tumores malignos e quantos à classe dos benignos"
      ]
    },
    {
      "cell_type": "code",
      "execution_count": 6,
      "metadata": {
        "id": "SRHpI8VXSgZe"
      },
      "outputs": [
        {
          "name": "stdout",
          "output_type": "stream",
          "text": [
            "Número de exemplos malignos: 212\n",
            "Número de exemplos benignos: 357\n"
          ]
        }
      ],
      "source": [
        "import numpy as np\n",
        "\n",
        "n_malign = np.sum(y == 0)\n",
        "n_benign = np.sum(y == 1)\n",
        "\n",
        "print(\"Número de exemplos malignos: %d\" % n_malign)\n",
        "print(\"Número de exemplos benignos: %d\" % n_benign)"
      ]
    },
    {
      "cell_type": "markdown",
      "metadata": {
        "id": "60j9N1m-gnf8"
      },
      "source": [
        "## Variância nas Árvores de Decisão\n"
      ]
    },
    {
      "cell_type": "markdown",
      "metadata": {
        "id": "iMAD6e-vT5I6"
      },
      "source": [
        "### Analisando a Estrutura das Árvores de Decisão\n",
        "\n",
        "\n",
        "Como estudado em aula, a árvore de decisão é conhecida por ser um classificador com alta variância. Isso possui consequências na estrutura das árvores treinadas.\n",
        "\n",
        "O código abaixo treina várias árvores de decisão com diferentes conjuntos de treino obtidos através do método holdout.\n",
        "Use-o para responder à Questão 1 do questionário.\n"
      ]
    },
    {
      "cell_type": "code",
      "execution_count": 30,
      "metadata": {
        "id": "sWBWbbTIUuQc"
      },
      "outputs": [
        {
          "data": {
            "text/plain": [
              "[np.str_('worst concave points'),\n",
              " np.str_('worst perimeter'),\n",
              " np.str_('worst perimeter'),\n",
              " np.str_('worst concave points'),\n",
              " np.str_('worst perimeter'),\n",
              " np.str_('worst concave points'),\n",
              " np.str_('worst concave points'),\n",
              " np.str_('worst area'),\n",
              " np.str_('worst perimeter'),\n",
              " np.str_('worst radius'),\n",
              " np.str_('worst perimeter'),\n",
              " np.str_('worst perimeter'),\n",
              " np.str_('worst radius'),\n",
              " np.str_('worst radius'),\n",
              " np.str_('worst radius'),\n",
              " np.str_('worst area'),\n",
              " np.str_('worst perimeter'),\n",
              " np.str_('worst concave points'),\n",
              " np.str_('worst concave points'),\n",
              " np.str_('mean concave points')]"
            ]
          },
          "execution_count": 30,
          "metadata": {},
          "output_type": "execute_result"
        }
      ],
      "source": [
        "from sklearn.tree import DecisionTreeClassifier\n",
        "from sklearn.model_selection import train_test_split  # função do scikit-learn que implementa um holdout\n",
        "\n",
        "\n",
        "def get_root_node(dt, feature_names):\n",
        "    feature_idx = dt.tree_.feature[0]\n",
        "    return feature_names[feature_idx]\n",
        "\n",
        "\n",
        "n_repeats = 20\n",
        "root_nodes = []\n",
        "\n",
        "# variando o seed do holdout, geramos conjuntos de treino e teste um pouco diferentes a cada iteração\n",
        "for split_random_state in range(0, n_repeats):\n",
        "  # Holdout com 20% de dados de teste\n",
        "  X_train, X_test, y_train, y_test = train_test_split(X, y, test_size=0.2, random_state=split_random_state)\n",
        "\n",
        "  # Treinamento da árvore usando os dados de treino\n",
        "  dt = DecisionTreeClassifier(random_state=0)\n",
        "  dt.fit(X_train, y_train)\n",
        "\n",
        "  # Obtemos o atributo usado na raiz e o salvamos na lista\n",
        "  root_node = get_root_node(dt, feature_names)\n",
        "  root_nodes.append(root_node)\n",
        "\n",
        "root_nodes"
      ]
    },
    {
      "cell_type": "markdown",
      "metadata": {
        "id": "4dE3IWkdlpVP"
      },
      "source": [
        "### Analisando a Acurácia das Árvores de Decisão\n",
        "\n",
        "A propriedade de variância também implica em efeitos na variabilidade da performance dos modelos.\n",
        "Podemos usar a acurácia como medida de performance, o que pode ser feito também através do scikit-learn. Posteriormente estudaremos outras métricas de desempenho que são mais indicadas para problemas em que o número de instâncias por classe é desbalanceado, como é o caso deste conjunto de dados."
      ]
    },
    {
      "cell_type": "code",
      "execution_count": 81,
      "metadata": {
        "id": "UHVpl0IipSR_"
      },
      "outputs": [
        {
          "name": "stdout",
          "output_type": "stream",
          "text": [
            "Acurácia nos dados de teste: 0.921\n"
          ]
        }
      ],
      "source": [
        "from sklearn.metrics import accuracy_score\n",
        "\n",
        "X_train, X_test, y_train, y_test = train_test_split(X, y, test_size=0.2)\n",
        "\n",
        "dt = DecisionTreeClassifier()\n",
        "dt.fit(X_train, y_train)\n",
        "y_pred = dt.predict(X_test)\n",
        "accuracy = accuracy_score(y_test, y_pred)\n",
        "print(\"Acurácia nos dados de teste: %.3f\" % accuracy)\n"
      ]
    },
    {
      "cell_type": "markdown",
      "metadata": {
        "id": "Dp5K0jyaLduN"
      },
      "source": [
        "O código abaixo executa repetidas vezes o treinamento das árvores de decisão, da mesma forma que no item *Analisando a Estrutura das Árvores de Decisão*.\n",
        "Modifique-o seguindo as orientações dadas de forma a obter a acurácia para cada execução. Então, calcule a média, desvio padrão, máximo e mínimo dos valores de acurácia obtidos. Use esses resultados para responder à Questão 2.\n",
        "\n",
        "**Atenção: Não mude os valores que estão sendo passados para os parâmetros random_state para garantir a reprodutibilidade do código**.\n"
      ]
    },
    {
      "cell_type": "code",
      "execution_count": 82,
      "metadata": {
        "id": "GGNDgUCzl2jV"
      },
      "outputs": [
        {
          "name": "stdout",
          "output_type": "stream",
          "text": [
            "Acurácia média: 0.929\n",
            "Desvio padrão: 0.024\n",
            "Acurácia máxima: 0.956\n",
            "Acurácia mínima: 0.877\n"
          ]
        }
      ],
      "source": [
        "n_repeats = 20\n",
        "accuracies = []\n",
        "\n",
        "# variando o seed do holdout, geramos conjuntos de treino e teste um pouco diferentes a cada iteração\n",
        "for split_random_state in range(0, n_repeats):\n",
        "  # Holdout com 20% de dados de teste\n",
        "  X_train, X_test, y_train, y_test = train_test_split(X, y, test_size=0.2, random_state=split_random_state)\n",
        "\n",
        "  # Nova instância da árvore de decisão\n",
        "  dt = DecisionTreeClassifier(random_state=0)\n",
        "\n",
        "  # Treinamento da árvore usando os dados de treino\n",
        "  dt.fit(X_train, y_train)\n",
        "\n",
        "  # Calcule a acurácia nos dados de teste, montando uma lista com os valores calculados\n",
        "  y_pred = dt.predict(X_test)\n",
        "  accuracy = accuracy_score(y_test, y_pred)\n",
        "  accuracies.append(accuracy)\n",
        "\n",
        "# Calcule a média, desvio padrão, máximo e mínimo das acurácias (pode usar numpy)\n",
        "mean_accuracy = np.mean(accuracies)\n",
        "std_accuracy = np.std(accuracies)\n",
        "max_accuracy = np.max(accuracies)\n",
        "min_accuracy = np.min(accuracies)\n",
        "\n",
        "print(f\"Acurácia média: {mean_accuracy:.3f}\")\n",
        "print(f\"Desvio padrão: {std_accuracy:.3f}\")\n",
        "print(f\"Acurácia máxima: {max_accuracy:.3f}\")\n",
        "print(f\"Acurácia mínima: {min_accuracy:.3f}\")\n"
      ]
    },
    {
      "cell_type": "markdown",
      "metadata": {
        "id": "OrsF5WMepURZ"
      },
      "source": [
        "### Analisando a Classificação para Instâncias Individuais\n",
        "\n",
        "1. Treine novamente uma árvore de decisão usando um novo conjunto de treino gerado com a função train_test_split. Utilize 20% de dados de teste e, desta vez, não **especifique valor nenhum para o random_state**.\n",
        "\n",
        "2. Faça a predição para as instâncias especificadas abaixo (\"X_interesting\") e preencha na tabela do excel disponibilizada no Moodle a classificação encontrada pelo seu modelo (0 para maligno e 1 para benigno).\n"
      ]
    },
    {
      "cell_type": "code",
      "execution_count": 48,
      "metadata": {
        "id": "hDqpSxNQqBHd"
      },
      "outputs": [
        {
          "name": "stdout",
          "output_type": "stream",
          "text": [
            "[1 0 1 1 0]\n"
          ]
        }
      ],
      "source": [
        "X_interesting = X[[40, 86, 297, 135, 73], :]\n",
        "\n",
        "\n",
        "# 1. Instancie uma nova árvore de decisão, dessa vez sem especificar o valor de random_state\n",
        "dt = DecisionTreeClassifier()\n",
        "\n",
        "# 2. Separe o conjunto em treino e teste, dessa vez sem especificar o valor de random_state\n",
        "X_train, X_test, y_train, y_test = train_test_split(X, y, test_size=0.2)\n",
        "\n",
        "# 3. Treine a nova árvore usando o conjunto de treino\n",
        "dt.fit(X_train, y_train)\n",
        "\n",
        "# 4. Use a nova árvore treinada para obter predições para os valores de X_interesting acima.\n",
        "y_pred = dt.predict(X_interesting)\n",
        "\n",
        "print(y_pred)"
      ]
    },
    {
      "cell_type": "markdown",
      "metadata": {
        "id": "AZelTK5blG_1"
      },
      "source": [
        "## Observando o Efeito da Poda"
      ]
    },
    {
      "cell_type": "markdown",
      "metadata": {
        "id": "IYchPiY3lPMw"
      },
      "source": [
        "As árvores de decisão treinadas nos itens anteriores não possuíam nenhuma forma de poda. No entanto, é possível utilizar técnicas de poda através do scikit-learn. Como consequência, elas podem ter uma complexidade além do que é necessário na modelagem do problema.\n",
        "\n"
      ]
    },
    {
      "cell_type": "markdown",
      "metadata": {
        "id": "rKvCQYSjovEx"
      },
      "source": [
        "### Exemplo de Pré-poda: profundidade máxima da árvore\n",
        "Podemos especificar a profundidade máxima da árvore utilizando o hiperparâmetro max_depth. Veja como exemplo o código abaixo."
      ]
    },
    {
      "cell_type": "code",
      "execution_count": 13,
      "metadata": {
        "id": "WrgD6yAupHUl"
      },
      "outputs": [
        {
          "data": {
            "image/png": "[encoded data removed]",
            "text/plain": [
              "<Figure size 1200x600 with 1 Axes>"
            ]
          },
          "metadata": {},
          "output_type": "display_data"
        }
      ],
      "source": [
        "dt = DecisionTreeClassifier(max_depth=2)\n",
        "dt.fit(X, y)\n",
        "\n",
        "from sklearn.tree import plot_tree\n",
        "plt.figure(figsize=(12,6))\n",
        "_ = plot_tree(dt, feature_names=feature_names, class_names=target_names)"
      ]
    },
    {
      "cell_type": "markdown",
      "metadata": {
        "id": "5bzmcFPutJR7"
      },
      "source": [
        "O código abaixo gera árvores de decisão com diferentes profundidades máximas e as avalia em termos de acurácia.\n",
        "\n",
        "Observe que todas as árvores são treinadas e avaliadas com os mesmos conjuntos de treino, validação e teste, visto que especificamos o parâmetro $random\\_state = 42$.\n",
        "\n",
        "Com base nesse código, e possíveis modificações que você faça a ele, responda à Questão  4 do questionário.\n",
        "\n",
        "**Não mude o valor que está sendo passado em random_state**.\n"
      ]
    },
    {
      "cell_type": "code",
      "execution_count": 17,
      "metadata": {
        "id": "25Sldd0mdvPY"
      },
      "outputs": [
        {
          "name": "stdout",
          "output_type": "stream",
          "text": [
            "(397, 30)\n",
            "(86, 30)\n",
            "(86, 30)\n"
          ]
        }
      ],
      "source": [
        "## Definindo as proporções de treino, validação e teste.\n",
        "train_ratio = 0.70\n",
        "test_ratio = 0.15\n",
        "validation_ratio = 0.15\n",
        "\n",
        "## Fazendo a primeira divisão, para separar um conjunto de teste dos demais.\n",
        "## Assuma X_temp e y_temp para os dados de treinamento+validação e X_test e y_test para os de teste\n",
        "## Dica: configure o random_state para facilitar reprodutibilidade dos experimentos\n",
        "\n",
        "X_temp, X_test, y_temp, y_test = train_test_split(X, y, test_size=test_ratio,random_state=42,stratify=y)\n",
        "\n",
        "## Fazendo a segunda divisão, para gerar o conjunto de treino e validação a partir\n",
        "## do conjunto de 'treinamento' da divisão anterior\n",
        "## Assuma X_train e y_train para os dados de treinamento e X_valid e y_valid para os de teste\n",
        "## Dica: configure o random_state para facilitar reprodutibilidade dos experimentos\n",
        "\n",
        "X_train, X_valid, y_train, y_valid = train_test_split(X_temp, y_temp, test_size=validation_ratio/(train_ratio+test_ratio),random_state=42,stratify=y_temp)\n",
        "\n",
        "print(X_train.shape)\n",
        "print(X_test.shape)\n",
        "print(X_valid.shape)"
      ]
    },
    {
      "cell_type": "code",
      "execution_count": 18,
      "metadata": {
        "id": "lOZ46-erd6SX"
      },
      "outputs": [],
      "source": [
        "max_depths = [1, 2, 3, 4, 5, 6, 7, 8, 9, 10, 11, 12, None]  # None faz com que essa poda não seja aplicada\n",
        "accuracies_valid = []\n",
        "accuracies_train = []\n",
        "for depth in max_depths:\n",
        "  dt = DecisionTreeClassifier(max_depth=depth, random_state=0)\n",
        "  dt.fit(X_train, y_train)\n",
        "\n",
        "  y_pred = dt.predict(X_valid)\n",
        "  acc = accuracy_score(y_valid, y_pred)\n",
        "  accuracies_valid.append(acc)\n",
        "  accuracies_train.append(dt.score(X_train, y_train)) ##para analisar overfitting"
      ]
    },
    {
      "cell_type": "code",
      "execution_count": null,
      "metadata": {
        "id": "5-VzwAdZemkG"
      },
      "outputs": [
        {
          "data": {
            "text/plain": [
              "[0.9418604651162791,\n",
              " 0.9651162790697675,\n",
              " 0.9883720930232558,\n",
              " 0.9767441860465116,\n",
              " 0.9767441860465116,\n",
              " 0.9651162790697675,\n",
              " 0.9534883720930233,\n",
              " 0.9534883720930233,\n",
              " 0.9534883720930233,\n",
              " 0.9534883720930233,\n",
              " 0.9534883720930233,\n",
              " 0.9534883720930233,\n",
              " 0.9534883720930233]"
            ]
          },
          "execution_count": 16,
          "metadata": {},
          "output_type": "execute_result"
        }
      ],
      "source": [
        "accuracies_valid"
      ]
    },
    {
      "cell_type": "code",
      "execution_count": 19,
      "metadata": {
        "id": "c2zxBBfCeEpq"
      },
      "outputs": [
        {
          "data": {
            "image/png": "[encoded data removed]",
            "text/plain": [
              "<Figure size 1000x600 with 1 Axes>"
            ]
          },
          "metadata": {},
          "output_type": "display_data"
        }
      ],
      "source": [
        "# Plotar a variação das acurácias\n",
        "plt.figure(figsize=(10,6))\n",
        "plt.plot(range(1, len(max_depths)+1),  accuracies_valid, marker='o', linestyle='--', color='b', label='Validação')\n",
        "plt.plot(range(1, len(max_depths)+1), accuracies_train, marker='o', linestyle='--', color='r', label='Treino')\n",
        "plt.title('Variação da Acurácia do Modelo')\n",
        "plt.xlabel('Profundidade')\n",
        "plt.ylabel('Acurácia')\n",
        "plt.xticks(range(1, len(max_depths)+1))\n",
        "plt.legend()\n",
        "plt.grid(True)\n",
        "plt.show()"
      ]
    },
    {
      "cell_type": "markdown",
      "metadata": {
        "id": "wER_OBhmgnuh"
      },
      "source": [
        "Para avaliarmos o desempenho do modelo otimizado em novos dados, devemos repetir o treinamento selecionando o melhor valor de hiperparâmetro(s) com base no gráfico anterior, e fazer a avaliação nos dados de teste.\n",
        "Para melhorar a capacidade de estimar o desempenho do modelo, podemos treinar com os dados de treinamento e validação, tendo em vista que ambos são independentes do conjunto de teste (dados nunca vistos).\n"
      ]
    },
    {
      "cell_type": "code",
      "execution_count": 20,
      "metadata": {
        "id": "MpxSjK_HhXU6"
      },
      "outputs": [],
      "source": [
        "best_max_depth = 3 ## preencha aqui com o melhor valor do hiperparâmetros, conforme análise anterior"
      ]
    },
    {
      "cell_type": "code",
      "execution_count": 21,
      "metadata": {
        "id": "JorMZ67xhNdn"
      },
      "outputs": [],
      "source": [
        "# concatena dados de treino e validação, para treinar modelo a ser avaliado com dados de teste\n",
        "X_train2 = np.concatenate((X_train, X_valid), axis=0)\n",
        "y_train2 = np.concatenate((y_train, y_valid), axis=0)"
      ]
    },
    {
      "cell_type": "code",
      "execution_count": 22,
      "metadata": {
        "id": "dM4yi3hDhVJn"
      },
      "outputs": [
        {
          "data": {
            "text/plain": [
              "0.9418604651162791"
            ]
          },
          "execution_count": 22,
          "metadata": {},
          "output_type": "execute_result"
        }
      ],
      "source": [
        "# treina e avalia a árvore de decisão com valor otimizado de max_depth\n",
        "dt = DecisionTreeClassifier(max_depth=best_max_depth, random_state=0)\n",
        "dt.fit(X_train2, y_train2)\n",
        "\n",
        "y_pred = dt.predict(X_test)\n",
        "acc = accuracy_score(y_test, y_pred)\n",
        "acc"
      ]
    },
    {
      "cell_type": "markdown",
      "metadata": {
        "id": "3IHz5Y-KvrCI"
      },
      "source": [
        "### Exemplo de Pós-poda: Custo-complexidade\n",
        "\n",
        "A biblioteca scikit-learn possui uma implementação de pós-poda por custo-complexidade, baseada no parâmetro de custo-complexidade $\\alpha \\ge 0$.\n",
        "\n",
        "Na implementação descrita na biblioteca, é definido também um custo-complexidade efetivo do nodo. Quanto maior for a taxa de erros ao se podar a subárvore de um nodo, maior será seu custo-complexidade efetivo. Além disso, quanto maior for a complexidade (número de nodos terminais) da subárvore do nodo, menor será seu custo-complexidade efetivo.\n",
        "Em resumo, um nodo com alto custo-complexidade efetivo é um nodo importante para diminuir a taxa de erros e com baixa complexidade.\n",
        "\n",
        "Dentro da biblioteca, passamos um hiperparâmetro $ccp\\_alpha$ que serve como um custo-complexidade efetivo de corte: subárvores são podadas enquanto houver nodos com custo-complexidade menor do que o hiperparâmetro $ccp\\_alpha$.\n",
        "Ou seja, quando maior for o valor do hiperparâmetro, mais intensa será a poda.\n",
        "\n",
        "Para mais informações:\n",
        "* https://scikit-learn.org/stable/modules/tree.html#minimal-cost-complexity-pruning\n",
        "* https://scikit-learn.org/stable/auto_examples/tree/plot_cost_complexity_pruning.html\n",
        "\n",
        "Use o código abaixo para resolver à Questão 5."
      ]
    },
    {
      "cell_type": "code",
      "execution_count": 23,
      "metadata": {
        "id": "vHVEBHEG3Ugd"
      },
      "outputs": [
        {
          "data": {
            "image/png": "[encoded data removed]",
            "text/plain": [
              "<Figure size 800x400 with 1 Axes>"
            ]
          },
          "metadata": {},
          "output_type": "display_data"
        }
      ],
      "source": [
        "def plot_acc_vs_ccp(accuracies_train, accuracies_valid, ccps):\n",
        "  fig, ax = plt.subplots(figsize=(8, 4))\n",
        "  ax.set_xlabel(\"alpha\")\n",
        "  ax.set_ylabel(\"accuracy\")\n",
        "  ax.set_title(\"Accuracy vs alpha for training and validation sets\")\n",
        "  ax.plot(ccps, accuracies_train, marker=\"o\", label=\"treino\", drawstyle=\"steps-post\")\n",
        "  ax.plot(ccps, accuracies_valid, marker=\"o\", label=\"validação\", drawstyle=\"steps-post\")\n",
        "  ax.legend()\n",
        "  ax.grid()\n",
        "  plt.show()\n",
        "\n",
        "\n",
        "accs_train = []\n",
        "accs_valid = []\n",
        "ccps = [k * 0.001 for k in range(0, 200, 2)]\n",
        "\n",
        "\n",
        "for ccp in ccps:\n",
        "  dt = DecisionTreeClassifier(ccp_alpha=ccp, random_state=0)\n",
        "  dt.fit(X_train, y_train)\n",
        "\n",
        "  y_pred_train = dt.predict(X_train)\n",
        "  acc_train = accuracy_score(y_train, y_pred_train)\n",
        "\n",
        "  y_pred_valid = dt.predict(X_valid)\n",
        "  acc_valid = accuracy_score(y_valid, y_pred_valid)\n",
        "\n",
        "  accs_train.append(acc_train)\n",
        "  accs_valid.append(acc_valid)\n",
        "\n",
        "plot_acc_vs_ccp(accs_train, accs_valid, ccps)"
      ]
    },
    {
      "cell_type": "code",
      "execution_count": 49,
      "metadata": {
        "id": "4jqjbK_ki7py"
      },
      "outputs": [
        {
          "data": {
            "text/plain": [
              "[0.0,\n",
              " 0.002,\n",
              " 0.004,\n",
              " 0.006,\n",
              " 0.008,\n",
              " 0.01,\n",
              " 0.012,\n",
              " 0.014,\n",
              " 0.016,\n",
              " 0.018000000000000002,\n",
              " 0.02,\n",
              " 0.022,\n",
              " 0.024,\n",
              " 0.026000000000000002,\n",
              " 0.028,\n",
              " 0.03,\n",
              " 0.032,\n",
              " 0.034,\n",
              " 0.036000000000000004,\n",
              " 0.038,\n",
              " 0.04,\n",
              " 0.042,\n",
              " 0.044,\n",
              " 0.046,\n",
              " 0.048,\n",
              " 0.05,\n",
              " 0.052000000000000005,\n",
              " 0.054,\n",
              " 0.056,\n",
              " 0.058,\n",
              " 0.06,\n",
              " 0.062,\n",
              " 0.064,\n",
              " 0.066,\n",
              " 0.068,\n",
              " 0.07,\n",
              " 0.07200000000000001,\n",
              " 0.074,\n",
              " 0.076,\n",
              " 0.078,\n",
              " 0.08,\n",
              " 0.082,\n",
              " 0.084,\n",
              " 0.08600000000000001,\n",
              " 0.088,\n",
              " 0.09,\n",
              " 0.092,\n",
              " 0.094,\n",
              " 0.096,\n",
              " 0.098,\n",
              " 0.1,\n",
              " 0.10200000000000001,\n",
              " 0.10400000000000001,\n",
              " 0.106,\n",
              " 0.108,\n",
              " 0.11,\n",
              " 0.112,\n",
              " 0.114,\n",
              " 0.116,\n",
              " 0.11800000000000001,\n",
              " 0.12,\n",
              " 0.122,\n",
              " 0.124,\n",
              " 0.126,\n",
              " 0.128,\n",
              " 0.13,\n",
              " 0.132,\n",
              " 0.134,\n",
              " 0.136,\n",
              " 0.138,\n",
              " 0.14,\n",
              " 0.14200000000000002,\n",
              " 0.14400000000000002,\n",
              " 0.146,\n",
              " 0.148,\n",
              " 0.15,\n",
              " 0.152,\n",
              " 0.154,\n",
              " 0.156,\n",
              " 0.158,\n",
              " 0.16,\n",
              " 0.162,\n",
              " 0.164,\n",
              " 0.166,\n",
              " 0.168,\n",
              " 0.17,\n",
              " 0.17200000000000001,\n",
              " 0.17400000000000002,\n",
              " 0.176,\n",
              " 0.178,\n",
              " 0.18,\n",
              " 0.182,\n",
              " 0.184,\n",
              " 0.186,\n",
              " 0.188,\n",
              " 0.19,\n",
              " 0.192,\n",
              " 0.194,\n",
              " 0.196,\n",
              " 0.198]"
            ]
          },
          "execution_count": 49,
          "metadata": {},
          "output_type": "execute_result"
        }
      ],
      "source": [
        "##valores de ccp\n",
        "ccps"
      ]
    },
    {
      "cell_type": "code",
      "execution_count": 50,
      "metadata": {
        "id": "y3E8SwrVw9kq"
      },
      "outputs": [
        {
          "data": {
            "text/plain": [
              "[0.9534883720930233,\n",
              " 0.9534883720930233,\n",
              " 0.9767441860465116,\n",
              " 0.9767441860465116,\n",
              " 0.9767441860465116,\n",
              " 0.9767441860465116,\n",
              " 0.9767441860465116,\n",
              " 0.9767441860465116,\n",
              " 0.9651162790697675,\n",
              " 0.9651162790697675,\n",
              " 0.9651162790697675,\n",
              " 0.9651162790697675,\n",
              " 0.9651162790697675,\n",
              " 0.9651162790697675,\n",
              " 0.9651162790697675,\n",
              " 0.9651162790697675,\n",
              " 0.9651162790697675,\n",
              " 0.9651162790697675,\n",
              " 0.9651162790697675,\n",
              " 0.9651162790697675,\n",
              " 0.9651162790697675,\n",
              " 0.9651162790697675,\n",
              " 0.9651162790697675,\n",
              " 0.9651162790697675,\n",
              " 0.9651162790697675,\n",
              " 0.9651162790697675,\n",
              " 0.9651162790697675,\n",
              " 0.9651162790697675,\n",
              " 0.9651162790697675,\n",
              " 0.9651162790697675,\n",
              " 0.9418604651162791,\n",
              " 0.9418604651162791,\n",
              " 0.9418604651162791,\n",
              " 0.9418604651162791,\n",
              " 0.9418604651162791,\n",
              " 0.9418604651162791,\n",
              " 0.9418604651162791,\n",
              " 0.9418604651162791,\n",
              " 0.9418604651162791,\n",
              " 0.9418604651162791,\n",
              " 0.9418604651162791,\n",
              " 0.9418604651162791,\n",
              " 0.9418604651162791,\n",
              " 0.9418604651162791,\n",
              " 0.9418604651162791,\n",
              " 0.9418604651162791,\n",
              " 0.9418604651162791,\n",
              " 0.9418604651162791,\n",
              " 0.9418604651162791,\n",
              " 0.9418604651162791,\n",
              " 0.9418604651162791,\n",
              " 0.9418604651162791,\n",
              " 0.9418604651162791,\n",
              " 0.9418604651162791,\n",
              " 0.9418604651162791,\n",
              " 0.9418604651162791,\n",
              " 0.9418604651162791,\n",
              " 0.9418604651162791,\n",
              " 0.9418604651162791,\n",
              " 0.9418604651162791,\n",
              " 0.9418604651162791,\n",
              " 0.9418604651162791,\n",
              " 0.9418604651162791,\n",
              " 0.9418604651162791,\n",
              " 0.9418604651162791,\n",
              " 0.9418604651162791,\n",
              " 0.9418604651162791,\n",
              " 0.9418604651162791,\n",
              " 0.9418604651162791,\n",
              " 0.9418604651162791,\n",
              " 0.9418604651162791,\n",
              " 0.9418604651162791,\n",
              " 0.9418604651162791,\n",
              " 0.9418604651162791,\n",
              " 0.9418604651162791,\n",
              " 0.9418604651162791,\n",
              " 0.9418604651162791,\n",
              " 0.9418604651162791,\n",
              " 0.9418604651162791,\n",
              " 0.9418604651162791,\n",
              " 0.9418604651162791,\n",
              " 0.9418604651162791,\n",
              " 0.9418604651162791,\n",
              " 0.9418604651162791,\n",
              " 0.9418604651162791,\n",
              " 0.9418604651162791,\n",
              " 0.9418604651162791,\n",
              " 0.9418604651162791,\n",
              " 0.9418604651162791,\n",
              " 0.9418604651162791,\n",
              " 0.9418604651162791,\n",
              " 0.9418604651162791,\n",
              " 0.9418604651162791,\n",
              " 0.9418604651162791,\n",
              " 0.9418604651162791,\n",
              " 0.9418604651162791,\n",
              " 0.9418604651162791,\n",
              " 0.9418604651162791,\n",
              " 0.9418604651162791,\n",
              " 0.9418604651162791]"
            ]
          },
          "execution_count": 50,
          "metadata": {},
          "output_type": "execute_result"
        }
      ],
      "source": [
        "accs_valid"
      ]
    },
    {
      "cell_type": "code",
      "execution_count": null,
      "metadata": {
        "id": "BTm5L4hBi0PH"
      },
      "outputs": [
        {
          "name": "stdout",
          "output_type": "stream",
          "text": [
            "Atenção: o valor de acurácia com o conjunto de teste não está entre os valores obtidos com o conjunto de validação. Isso pode indicar overfitting no conjunto de validação ou que o conjunto de teste é muito diferente do conjunto de validação.\n"
          ]
        },
        {
          "data": {
            "text/plain": [
              "0.9736842105263158"
            ]
          },
          "execution_count": 72,
          "metadata": {},
          "output_type": "execute_result"
        }
      ],
      "source": [
        "# treina e avalia a árvore de decisão com valor otimizado de ccp_alpha\n",
        "best_ccp = 0.004 ## preencha aqui com o melhor valor do hiperparâmetro, conforme análise anterior\n",
        "\n",
        "dt = DecisionTreeClassifier(ccp_alpha=best_ccp, random_state=0)\n",
        "dt.fit(X_train2, y_train2)\n",
        "\n",
        "y_pred = dt.predict(X_test)\n",
        "acc = accuracy_score(y_test, y_pred)\n",
        "\n",
        "acc"
      ]
    }
  ],
  "metadata": {
    "colab": {
      "private_outputs": true,
      "provenance": [],
      "toc_visible": true
    },
    "kernelspec": {
      "display_name": ".venv",
      "language": "python",
      "name": "python3"
    },
    "language_info": {
      "codemirror_mode": {
        "name": "ipython",
        "version": 3
      },
      "file_extension": ".py",
      "mimetype": "text/x-python",
      "name": "python",
      "nbconvert_exporter": "python",
      "pygments_lexer": "ipython3",
      "version": "3.9.13"
    }
  },
  "nbformat": 4,
  "nbformat_minor": 0
}
